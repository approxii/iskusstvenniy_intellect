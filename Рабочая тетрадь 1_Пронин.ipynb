{
 "cells": [
  {
   "cell_type": "markdown",
   "id": "95422a82",
   "metadata": {},
   "source": [
    "## 1.1. Теоретический материал - Типы данных"
   ]
  },
  {
   "cell_type": "markdown",
   "id": "ab0e923e",
   "metadata": {},
   "source": [
    "Типы данных\n",
    "Все типы данных в Python относятся к одной из 2-х категорий: изменяемые (mutable) и неизменяемые (immutable).\n",
    "    Неизменяемые объекты:\n",
    "        -числовые данные(int, float),\n",
    "        -bool,\n",
    "        -None,\n",
    "        -символьные строки(class 'str'),\n",
    "        -кортежи.\n",
    "        Изменяемые объекты:\n",
    "         -списки(list),\n",
    "         -множества(set),\n",
    "         -словари(dict)."
   ]
  },
  {
   "cell_type": "code",
   "execution_count": 4,
   "id": "47330b57",
   "metadata": {},
   "outputs": [
    {
     "name": "stdout",
     "output_type": "stream",
     "text": [
      "39.4 | <class 'float'> \n",
      " None | <class 'NoneType'> \n",
      " ('a', 5, 12.345, (2, 'b')) | <class 'tuple'> \n",
      " [['Антонова Антонина', 34, 'ж'], ['Борисов Борис', 26, 'м']] | <class 'list'> \n",
      " {'content', 2, 'title', 1} | <class 'set'>\n"
     ]
    }
   ],
   "source": [
    "x = 3 + 5.2 * 7\n",
    "y = None\n",
    "z = 'a', 5, 12.345, (2, 'b')\n",
    "df = [['Антонова Антонина', 34, 'ж'], ['Борисов Борис', 26, 'м']]\n",
    "A = {1, 'title', 2, 'content'}\n",
    "print(x, '|', type(x), '\\n', y, '|', type(y), '\\n', z, '|', type(z), '\\n', df, '|', type(df), '\\n', A, '|', type(A))"
   ]
  },
  {
   "cell_type": "code",
   "execution_count": 5,
   "id": "9db312e7",
   "metadata": {},
   "outputs": [
    {
     "name": "stdout",
     "output_type": "stream",
     "text": [
      "True <class 'bool'> \n",
      " {8, 1, 3, 7} <class 'set'> \n",
      " {'apple', 2, 4, 5, 10} <class 'set'> \n",
      " set() <class 'set'> \n",
      " ('Антонова Антонина', 34, 'ж') <class 'tuple'> \n",
      " type <class 'str'> \n",
      " [1, 'title', 2, 'content'] <class 'list'> \n",
      "\n"
     ]
    }
   ],
   "source": [
    "#zadanie 1.3\n",
    "\n",
    "x = 5 >= 2\n",
    "A = {1, 3, 7, 8}\n",
    "B = {2, 4, 5, 10, 'apple'}\n",
    "C = A & B\n",
    "df = 'Антонова Антонина', 34, 'ж'\n",
    "z = 'type'\n",
    "D = [1, 'title', 2, 'content']\n",
    "\n",
    "print(x, type(x), '\\n', A, type(A), '\\n', B, type(B), '\\n', C, type(C), '\\n', df, type(df), '\\n', z, type(z), '\\n', D, type(D), '\\n')"
   ]
  },
  {
   "cell_type": "code",
   "execution_count": 11,
   "id": "4c75a7f3",
   "metadata": {},
   "outputs": [
    {
     "name": "stdout",
     "output_type": "stream",
     "text": [
      "Сложение 93\n",
      "Вычитание 7\n",
      "Умножение 2150\n",
      "Целочисленное деление 1.1627906976744187\n",
      "Остаток 7\n",
      "Синус -0.9482821412699473\n",
      "Косинус 0.31742870151970165\n",
      "Степень 11368683772161602973937988281250000000000000000000000000000000000000000000\n",
      "e в степени (x + y) 2.451245542920074e+40\n"
     ]
    }
   ],
   "source": [
    "#4.3.5\n",
    "\n",
    "import math as m\n",
    "\n",
    "def plus(x, y):\n",
    "    return x + y\n",
    "\n",
    "def minus(x, y):\n",
    "    return x - y\n",
    "\n",
    "def mupltiplication(x, y):\n",
    "    return x*y\n",
    "\n",
    "def div1(x, y):\n",
    "    return x/y\n",
    "\n",
    "def mod1(x, y):\n",
    "    return x%y\n",
    "\n",
    "def a_func(x, y):\n",
    "    return m.sin(x + y)\n",
    "\n",
    "def b_func(x, y):\n",
    "    return m.cos(x + y)\n",
    "\n",
    "def stepen(x, y):\n",
    "    return x**y\n",
    "\n",
    "def expstep(x, y):\n",
    "    return m.e**(x + y)\n",
    "\n",
    "\n",
    "x = 50\n",
    "#print('Введите y:')\n",
    "y = 43\n",
    "\n",
    "print('Сложение', plus(x, y))\n",
    "print('Вычитание', minus(x, y))\n",
    "print('Умножение', mupltiplication(x, y))\n",
    "print('Целочисленное деление', div1(x, y))\n",
    "print('Остаток', mod1(x, y))\n",
    "print('Синус', a_func(x, y))\n",
    "print('Косинус', b_func(x, y))\n",
    "print('Степень', stepen(x, y))\n",
    "print('e в степени (x + y)', expstep(x, y))"
   ]
  },
  {
   "cell_type": "code",
   "execution_count": null,
   "id": "84a6bd73",
   "metadata": {},
   "outputs": [],
   "source": []
  }
 ],
 "metadata": {
  "kernelspec": {
   "display_name": "Python 3 (ipykernel)",
   "language": "python",
   "name": "python3"
  },
  "language_info": {
   "codemirror_mode": {
    "name": "ipython",
    "version": 3
   },
   "file_extension": ".py",
   "mimetype": "text/x-python",
   "name": "python",
   "nbconvert_exporter": "python",
   "pygments_lexer": "ipython3",
   "version": "3.9.12"
  }
 },
 "nbformat": 4,
 "nbformat_minor": 5
}
