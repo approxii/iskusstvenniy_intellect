{
 "cells": [
  {
   "cell_type": "markdown",
   "id": "a2ad348f",
   "metadata": {},
   "source": [
    "1.1. Теоретический материал – Библиотека NumPy NumPy (NumericalPython) - это библиотека Python с открытым исходным кодом, которая используется практически во всех областях науки и техники. Это универсальный стандарт для работы с числовыми данными в Python. \n",
    "Если у вас уже есть Python, вы можете установить NumPy с помощью командной строки:  pip install numpy \n",
    "Чтобы начать использовать NumPy необходимо импортировать соответствующую библиотеку:     import numpy as np \n",
    "Основным объектом NumPy является однородный многомерный массив (в numpy называется numpy.ndarray). Это многомерный массив элементов (обычно чисел), одного типа. \n",
    "Наиболее важные атрибуты объектов ndarray: \n",
    "##ndarray.ndim - число измерений (чаще их называют \"оси\") массива. ndarray.shape - размеры массива, его форма. Это кортеж натуральных чисел, показывающий длину массива по каждой оси. Для матрицы из n строк и m столбов, shape будет (n,m). Число элементов кортежа shape равно ndim. ndarray.size - количество элементов массива. Очевидно, равно произведению всех элементов атрибута shape. ndarray.dtype - объект, описывающий тип элементов массива. Можно определить dtype, используя стандартные типы данных Python. NumPy здесь предоставляет целый букет возможностей, как встроенных, например: bool_, character, int8, int16, int32, int64, float8, float16, float32, float64, complex64, object_, так и возможность определить собственные типы данных, в том числе и составные. ndarray.itemsize - размер каждого элемента массива в байтах. ndarray.data - буфер, содержащий фактические элементы массива. Обычно не нужно использовать этот атрибут, так как обращаться к элементам массива проще всего с помощью индексов. Подробнее о массивах в NumPy можно найти в официальной документации https://numpy.org/doc/stable/user/absolute_beginners.html  \n",
    " \n"
   ]
  },
  {
   "cell_type": "code",
   "execution_count": 10,
   "id": "c65101da",
   "metadata": {},
   "outputs": [
    {
     "name": "stdout",
     "output_type": "stream",
     "text": [
      "[[0 1 0 1 0 1 0 1]\n",
      " [1 0 1 0 1 0 1 0]\n",
      " [0 1 0 1 0 1 0 1]\n",
      " [1 0 1 0 1 0 1 0]\n",
      " [0 1 0 1 0 1 0 1]\n",
      " [1 0 1 0 1 0 1 0]\n",
      " [0 1 0 1 0 1 0 1]\n",
      " [1 0 1 0 1 0 1 0]]\n"
     ]
    }
   ],
   "source": [
    "#1.3.1\n",
    "\n",
    "import numpy as np\n",
    "\n",
    "a = np.zeros((8,8), dtype = int)\n",
    "a[1::2, ::2] = 1\n",
    "a[::2, 1::2] = 1\n",
    "print(a)"
   ]
  },
  {
   "cell_type": "code",
   "execution_count": 19,
   "id": "43c0bbc5",
   "metadata": {},
   "outputs": [
    {
     "name": "stdout",
     "output_type": "stream",
     "text": [
      "[[0 1 2 3 4]\n",
      " [0 1 2 3 4]\n",
      " [0 1 2 3 4]\n",
      " [0 1 2 3 4]\n",
      " [0 1 2 3 4]]\n"
     ]
    }
   ],
   "source": [
    "#1.3.2\n",
    "\n",
    "import numpy as np\n",
    "\n",
    "a = np.arange(25).reshape(5,5)\n",
    "for i in range(4):\n",
    "    a[[i + 1, 0]] = a[[0, i]]\n",
    "print(a)"
   ]
  },
  {
   "cell_type": "code",
   "execution_count": 21,
   "id": "00a57ae8",
   "metadata": {},
   "outputs": [
    {
     "name": "stdout",
     "output_type": "stream",
     "text": [
      "[[[0.73059775 0.89587322 0.02483744]\n",
      "  [0.00508023 0.12620962 0.0420245 ]\n",
      "  [0.1459605  0.24805901 0.72376392]]\n",
      "\n",
      " [[0.42532352 0.01869471 0.173428  ]\n",
      "  [0.91788454 0.67315505 0.69552462]\n",
      "  [0.32987949 0.372102   0.0933633 ]]\n",
      "\n",
      " [[0.04173999 0.49677505 0.1354237 ]\n",
      "  [0.27280974 0.08066794 0.18040155]\n",
      "  [0.2943898  0.00766636 0.958993  ]]]\n"
     ]
    }
   ],
   "source": [
    "#1.3.3\n",
    "\n",
    "import numpy as np\n",
    "\n",
    "a = np.random.random((3, 3, 3))\n",
    "print(a)"
   ]
  },
  {
   "cell_type": "code",
   "execution_count": 1,
   "id": "bada5e03",
   "metadata": {},
   "outputs": [
    {
     "name": "stdout",
     "output_type": "stream",
     "text": [
      "[[1. 1. 1. 1. 1. 1. 1. 1. 1. 1.]\n",
      " [1. 0. 0. 0. 0. 0. 0. 0. 0. 1.]\n",
      " [1. 0. 0. 0. 0. 0. 0. 0. 0. 1.]\n",
      " [1. 0. 0. 0. 0. 0. 0. 0. 0. 1.]\n",
      " [1. 0. 0. 0. 0. 0. 0. 0. 0. 1.]\n",
      " [1. 0. 0. 0. 0. 0. 0. 0. 0. 1.]\n",
      " [1. 0. 0. 0. 0. 0. 0. 0. 0. 1.]\n",
      " [1. 0. 0. 0. 0. 0. 0. 0. 0. 1.]\n",
      " [1. 0. 0. 0. 0. 0. 0. 0. 0. 1.]\n",
      " [1. 1. 1. 1. 1. 1. 1. 1. 1. 1.]]\n"
     ]
    }
   ],
   "source": [
    "#1.3.4\n",
    "\n",
    "import numpy as np\n",
    "\n",
    "z = np.ones((10, 10))\n",
    "z[1:-1, 1:-1] = 0\n",
    "print(z)"
   ]
  },
  {
   "cell_type": "code",
   "execution_count": 2,
   "id": "56b0d021",
   "metadata": {},
   "outputs": [
    {
     "name": "stdout",
     "output_type": "stream",
     "text": [
      "[79 31 12  7  6  2]\n"
     ]
    }
   ],
   "source": [
    "#1.3.5\n",
    "\n",
    "import numpy as np\n",
    "\n",
    "array = np.array([2, 6, 31, 7, 12, 79])\n",
    "print(np.sort(array)[::-1])"
   ]
  },
  {
   "cell_type": "code",
   "execution_count": 3,
   "id": "b696727f",
   "metadata": {},
   "outputs": [
    {
     "name": "stdout",
     "output_type": "stream",
     "text": [
      "Форма: \n",
      " [[0 1 2]\n",
      " [3 4 5]\n",
      " [6 7 8]]\n",
      "Размер:  (3, 3)\n"
     ]
    }
   ],
   "source": [
    "#1.3.6\n",
    "\n",
    "import numpy as np\n",
    "\n",
    "matrix = np.arange(9).reshape(3, 3)\n",
    "print(\"Форма: \\n\", matrix)\n",
    "print(\"Размер: \", matrix.shape)"
   ]
  },
  {
   "cell_type": "code",
   "execution_count": 4,
   "id": "89f680c8",
   "metadata": {},
   "outputs": [
    {
     "name": "stdout",
     "output_type": "stream",
     "text": [
      "8.12403840463596\n"
     ]
    }
   ],
   "source": [
    "#2.3.1\n",
    "\n",
    "import pandas as pd\n",
    "import numpy as np\n",
    "\n",
    "s1 = pd.Series((0, 0, 0))\n",
    "s2 = pd.Series((4, 7, 1))\n",
    "\n",
    "square = np.square(s1 - s2)\n",
    "sum_square = np.sum(square)\n",
    "distance = np.sqrt(sum_square)\n",
    "\n",
    "print(distance)"
   ]
  },
  {
   "cell_type": "code",
   "execution_count": 14,
   "id": "3e6dd882",
   "metadata": {},
   "outputs": [
    {
     "name": "stdout",
     "output_type": "stream",
     "text": [
      "     2018-01-01 00:01:01;read;country_7;2458151261;SEO;North America\n",
      "0     2018-01-01 00:03:20;read;country_7;2458151262;...             \n",
      "1     2018-01-01 00:04:01;read;country_7;2458151263;...             \n",
      "2     2018-01-01 00:04:02;read;country_7;2458151264;...             \n",
      "3     2018-01-01 00:05:03;read;country_8;2458151265;...             \n",
      "4     2018-01-01 00:05:42;read;country_6;2458151266;...             \n",
      "...                                                 ...             \n",
      "1789  2018-01-01 23:57:14;read;country_2;2458153051;...             \n",
      "1790  2018-01-01 23:58:33;read;country_8;2458153052;...             \n",
      "1791  2018-01-01 23:59:36;read;country_6;2458153053;...             \n",
      "1792  2018-01-01 23:59:36;read;country_7;2458153054;...             \n",
      "1793  2018-01-01 23:59:38;read;country_5;2458153055;...             \n",
      "\n",
      "[1794 rows x 1 columns]\n"
     ]
    }
   ],
   "source": [
    "#2.3.2\n",
    "\n",
    "import pandas as pd\n",
    "\n",
    "dataframe = pd.read_csv('https://pythonru.com/downloads/pandas_tutorial_read.csv')\n",
    "print(dataframe)"
   ]
  },
  {
   "cell_type": "code",
   "execution_count": 17,
   "id": "1d87d0e4",
   "metadata": {},
   "outputs": [
    {
     "name": "stdout",
     "output_type": "stream",
     "text": [
      "Head:\n",
      "            my_datetime event    country     user_id source          topic\n",
      "0  2018-01-01 00:01:01  read  country_7  2458151261    SEO  North America\n",
      "1  2018-01-01 00:03:20  read  country_7  2458151262    SEO  South America\n",
      "Tail:\n",
      "               my_datetime event    country     user_id   source   topic\n",
      "1792  2018-01-01 23:59:36  read  country_6  2458153053   Reddit    Asia\n",
      "1793  2018-01-01 23:59:36  read  country_7  2458153054  AdWords  Europe\n",
      "1794  2018-01-01 23:59:38  read  country_5  2458153055   Reddit    Asia\n",
      "Shape:\n",
      " (1795, 6)\n",
      "Describe:\n",
      "             user_id\n",
      "count  1.795000e+03\n",
      "mean   2.458152e+09\n",
      "std    5.183162e+02\n",
      "min    2.458151e+09\n",
      "25%    2.458152e+09\n",
      "50%    2.458152e+09\n",
      "75%    2.458153e+09\n",
      "max    2.458153e+09\n",
      "Iloc:\n",
      "            my_datetime event    country     user_id   source          topic\n",
      "1  2018-01-01 00:03:20  read  country_7  2458151262      SEO  South America\n",
      "2  2018-01-01 00:04:01  read  country_7  2458151263  AdWords         Africa\n",
      "3  2018-01-01 00:04:02  read  country_7  2458151264  AdWords         Europe\n",
      "Source with \"SEO\"\n",
      "               my_datetime event    country     user_id source          topic\n",
      "0     2018-01-01 00:01:01  read  country_7  2458151261    SEO  North America\n",
      "1     2018-01-01 00:03:20  read  country_7  2458151262    SEO  South America\n",
      "11    2018-01-01 00:08:57  read  country_7  2458151272    SEO      Australia\n",
      "15    2018-01-01 00:11:22  read  country_7  2458151276    SEO  North America\n",
      "16    2018-01-01 00:13:05  read  country_8  2458151277    SEO  North America\n",
      "...                   ...   ...        ...         ...    ...            ...\n",
      "1772  2018-01-01 23:45:58  read  country_7  2458153033    SEO  South America\n",
      "1777  2018-01-01 23:49:52  read  country_5  2458153038    SEO  North America\n",
      "1779  2018-01-01 23:51:25  read  country_4  2458153040    SEO  South America\n",
      "1784  2018-01-01 23:54:03  read  country_2  2458153045    SEO  North America\n",
      "1791  2018-01-01 23:58:33  read  country_8  2458153052    SEO           Asia\n",
      "\n",
      "[346 rows x 6 columns]\n"
     ]
    }
   ],
   "source": [
    "#2.3.3 \n",
    "\n",
    "import pandas as pd\n",
    "\n",
    "dataframe = pd.read_csv('https://pythonru.com/downloads/pandas_tutorial_read.csv', delimiter=';', names=['my_datetime', 'event', 'country', 'user_id', 'source', 'topic'])  \n",
    "print('Head:\\n', dataframe.head(2))\n",
    "print('Tail:\\n', dataframe.tail(3))\n",
    "print('Shape:\\n', dataframe.shape)\n",
    "print('Describe:\\n', dataframe.describe())\n",
    "\n",
    "print('Iloc:\\n', dataframe.iloc[1:4])\n",
    "print('Source with \"SEO\"\\n', dataframe[dataframe['source'] == 'SEO'])"
   ]
  },
  {
   "cell_type": "code",
   "execution_count": 21,
   "id": "d641b6c6",
   "metadata": {},
   "outputs": [
    {
     "name": "stdout",
     "output_type": "stream",
     "text": [
      "     sepal_length_cm  sepal_width_cm  petal_length_cm  petal_width_cm  \\\n",
      "0                5.1             3.5              1.4             0.2   \n",
      "1                4.9             3.0              1.4             0.2   \n",
      "2                4.7             3.2              1.3             0.2   \n",
      "3                4.6             3.1              1.5             0.2   \n",
      "4                5.0             3.6              1.4             0.2   \n",
      "..               ...             ...              ...             ...   \n",
      "145              6.7             3.0              5.2             2.3   \n",
      "146              6.3             2.5              5.0             1.9   \n",
      "147              6.5             3.0              5.2             2.0   \n",
      "148              6.2             3.4              5.4             2.3   \n",
      "149              5.9             3.0              5.1             1.8   \n",
      "\n",
      "       species  \n",
      "0       setosa  \n",
      "1       setosa  \n",
      "2       setosa  \n",
      "3       setosa  \n",
      "4       setosa  \n",
      "..         ...  \n",
      "145  virginica  \n",
      "146  virginica  \n",
      "147  virginica  \n",
      "148  virginica  \n",
      "149  virginica  \n",
      "\n",
      "[150 rows x 5 columns]\n",
      "     sepal_length_cm  sepal_width_cm  petal_length_cm  petal_width_cm  \\\n",
      "0           0.222222             3.5              1.4             0.2   \n",
      "1           0.166667             3.0              1.4             0.2   \n",
      "2           0.111111             3.2              1.3             0.2   \n",
      "3           0.083333             3.1              1.5             0.2   \n",
      "4           0.194444             3.6              1.4             0.2   \n",
      "..               ...             ...              ...             ...   \n",
      "145         0.666667             3.0              5.2             2.3   \n",
      "146         0.555556             2.5              5.0             1.9   \n",
      "147         0.611111             3.0              5.2             2.0   \n",
      "148         0.527778             3.4              5.4             2.3   \n",
      "149         0.444444             3.0              5.1             1.8   \n",
      "\n",
      "       species  \n",
      "0       setosa  \n",
      "1       setosa  \n",
      "2       setosa  \n",
      "3       setosa  \n",
      "4       setosa  \n",
      "..         ...  \n",
      "145  virginica  \n",
      "146  virginica  \n",
      "147  virginica  \n",
      "148  virginica  \n",
      "149  virginica  \n",
      "\n",
      "[150 rows x 5 columns]\n",
      "     sepal_length_cm  sepal_width_cm  petal_length_cm  petal_width_cm  \\\n",
      "0           0.222222        1.028611              1.4             0.2   \n",
      "1           0.166667       -0.124540              1.4             0.2   \n",
      "2           0.111111        0.336720              1.3             0.2   \n",
      "3           0.083333        0.106090              1.5             0.2   \n",
      "4           0.194444        1.259242              1.4             0.2   \n",
      "..               ...             ...              ...             ...   \n",
      "145         0.666667       -0.124540              5.2             2.3   \n",
      "146         0.555556       -1.277692              5.0             1.9   \n",
      "147         0.611111       -0.124540              5.2             2.0   \n",
      "148         0.527778        0.797981              5.4             2.3   \n",
      "149         0.444444       -0.124540              5.1             1.8   \n",
      "\n",
      "       species  \n",
      "0       setosa  \n",
      "1       setosa  \n",
      "2       setosa  \n",
      "3       setosa  \n",
      "4       setosa  \n",
      "..         ...  \n",
      "145  virginica  \n",
      "146  virginica  \n",
      "147  virginica  \n",
      "148  virginica  \n",
      "149  virginica  \n",
      "\n",
      "[150 rows x 5 columns]\n"
     ]
    }
   ],
   "source": [
    "#3.3.2\n",
    "\n",
    "import pandas as pd\n",
    "from sklearn.preprocessing import MinMaxScaler\n",
    "\n",
    "dataframe = pd.read_csv('https://raw.githubusercontent.com/akmand/datasets/master/iris.csv')\n",
    "print(dataframe)\n",
    "\n",
    "scaler = MinMaxScaler()\n",
    "dataframe[['sepal_length_cm']] = scaler.fit_transform(dataframe[['sepal_length_cm']])\n",
    "print(dataframe)\n",
    "\n",
    "dataframe['sepal_width_cm'] = (dataframe['sepal_width_cm'] - dataframe['sepal_width_cm'].mean()) \\\n",
    "                              /dataframe['sepal_width_cm'].std()\n",
    "\n",
    "\n",
    "print(dataframe)"
   ]
  },
  {
   "cell_type": "code",
   "execution_count": null,
   "id": "51cced5b",
   "metadata": {},
   "outputs": [],
   "source": []
  }
 ],
 "metadata": {
  "kernelspec": {
   "display_name": "Python 3 (ipykernel)",
   "language": "python",
   "name": "python3"
  },
  "language_info": {
   "codemirror_mode": {
    "name": "ipython",
    "version": 3
   },
   "file_extension": ".py",
   "mimetype": "text/x-python",
   "name": "python",
   "nbconvert_exporter": "python",
   "pygments_lexer": "ipython3",
   "version": "3.9.13"
  }
 },
 "nbformat": 4,
 "nbformat_minor": 5
}
